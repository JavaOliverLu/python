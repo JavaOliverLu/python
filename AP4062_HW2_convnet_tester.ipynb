{
  "nbformat": 4,
  "nbformat_minor": 0,
  "metadata": {
    "colab": {
      "provenance": [],
      "authorship_tag": "ABX9TyMygIkk4gAdDgPRFzJmj2ol",
      "include_colab_link": true
    },
    "kernelspec": {
      "name": "python3",
      "display_name": "Python 3"
    },
    "language_info": {
      "name": "python"
    }
  },
  "cells": [
    {
      "cell_type": "markdown",
      "metadata": {
        "id": "view-in-github",
        "colab_type": "text"
      },
      "source": [
        "<a href=\"https://colab.research.google.com/github/JavaOliverLu/python/blob/master/AP4062_HW2_convnet_tester.ipynb\" target=\"_parent\"><img src=\"https://colab.research.google.com/assets/colab-badge.svg\" alt=\"Open In Colab\"/></a>"
      ]
    },
    {
      "cell_type": "code",
      "execution_count": 3,
      "metadata": {
        "id": "WvSHV5ztNrlk"
      },
      "outputs": [],
      "source": [
        "!pip install -q keras\n"
      ]
    },
    {
      "cell_type": "code",
      "source": [
        "import keras\n",
        "from keras.datasets import cifar10\n",
        "from keras import models\n",
        "from keras import layers\n",
        "from keras import regularizers\n",
        "from keras.utils import to_categorical\n",
        "tester_string=[16,64,128,256,512]\n",
        "for i in tester_string:\n",
        "    print(i)\n",
        "    (train_images, train_labels), (test_images, test_labels) = cifar10.load_data()\n",
        "    model = models.Sequential()\n",
        "    model.add(layers.Conv2D(32, (3, 3), activation='tanh', input_shape=(32, 32, 3)))\n",
        "    model.add(layers.MaxPooling2D((2, 2)))\n",
        "    model.add(layers.Conv2D(64, (3, 3), activation='relu'))\n",
        "    model.add(layers.MaxPooling2D((2, 2)))\n",
        "    model.add(layers.Conv2D(64, (3, 3), activation='relu'))\n",
        "    model.add(layers.Flatten())\n",
        "    model.add(layers.Dense(i,activation='tanh'))\n",
        "    model.add(layers.Dense(10,activation='softmax'))\n",
        "    train_images = train_images.reshape((50000, 32, 32, 3))\n",
        "    train_images = train_images.astype('float32') / 255\n",
        "    test_images = test_images.reshape((10000, 32, 32, 3))\n",
        "    test_images = test_images.astype('float32') / 255\n",
        "    train_labels = to_categorical(train_labels)\n",
        "    test_labels = to_categorical(test_labels)\n",
        "    model.compile(optimizer='adam',\n",
        "    loss='categorical_crossentropy',\n",
        "    metrics=['accuracy'])\n",
        "    model.fit(train_images, train_labels, epochs=9, batch_size=256)\n",
        "    test_loss, test_acc = model.evaluate(test_images, test_labels)\n",
        "    print('test_acc:', test_acc)\n"
      ],
      "metadata": {
        "id": "G8eAYsLXN93G",
        "colab": {
          "base_uri": "https://localhost:8080/"
        },
        "outputId": "37c8c036-d645-4eaa-888c-a7ea9dfbf46a"
      },
      "execution_count": 4,
      "outputs": [
        {
          "output_type": "stream",
          "name": "stdout",
          "text": [
            "16\n"
          ]
        },
        {
          "output_type": "stream",
          "name": "stderr",
          "text": [
            "/usr/local/lib/python3.11/dist-packages/keras/src/layers/convolutional/base_conv.py:107: UserWarning: Do not pass an `input_shape`/`input_dim` argument to a layer. When using Sequential models, prefer using an `Input(shape)` object as the first layer in the model instead.\n",
            "  super().__init__(activity_regularizer=activity_regularizer, **kwargs)\n"
          ]
        },
        {
          "output_type": "stream",
          "name": "stdout",
          "text": [
            "Epoch 1/9\n",
            "\u001b[1m196/196\u001b[0m \u001b[32m━━━━━━━━━━━━━━━━━━━━\u001b[0m\u001b[37m\u001b[0m \u001b[1m61s\u001b[0m 298ms/step - accuracy: 0.2923 - loss: 1.9464\n",
            "Epoch 2/9\n",
            "\u001b[1m196/196\u001b[0m \u001b[32m━━━━━━━━━━━━━━━━━━━━\u001b[0m\u001b[37m\u001b[0m \u001b[1m60s\u001b[0m 307ms/step - accuracy: 0.4828 - loss: 1.4522\n",
            "Epoch 3/9\n",
            "\u001b[1m196/196\u001b[0m \u001b[32m━━━━━━━━━━━━━━━━━━━━\u001b[0m\u001b[37m\u001b[0m \u001b[1m79s\u001b[0m 294ms/step - accuracy: 0.5416 - loss: 1.2975\n",
            "Epoch 4/9\n",
            "\u001b[1m196/196\u001b[0m \u001b[32m━━━━━━━━━━━━━━━━━━━━\u001b[0m\u001b[37m\u001b[0m \u001b[1m83s\u001b[0m 297ms/step - accuracy: 0.5896 - loss: 1.1753\n",
            "Epoch 5/9\n",
            "\u001b[1m196/196\u001b[0m \u001b[32m━━━━━━━━━━━━━━━━━━━━\u001b[0m\u001b[37m\u001b[0m \u001b[1m58s\u001b[0m 296ms/step - accuracy: 0.6191 - loss: 1.0979\n",
            "Epoch 6/9\n",
            "\u001b[1m196/196\u001b[0m \u001b[32m━━━━━━━━━━━━━━━━━━━━\u001b[0m\u001b[37m\u001b[0m \u001b[1m58s\u001b[0m 294ms/step - accuracy: 0.6432 - loss: 1.0309\n",
            "Epoch 7/9\n",
            "\u001b[1m196/196\u001b[0m \u001b[32m━━━━━━━━━━━━━━━━━━━━\u001b[0m\u001b[37m\u001b[0m \u001b[1m83s\u001b[0m 300ms/step - accuracy: 0.6652 - loss: 0.9684\n",
            "Epoch 8/9\n",
            "\u001b[1m196/196\u001b[0m \u001b[32m━━━━━━━━━━━━━━━━━━━━\u001b[0m\u001b[37m\u001b[0m \u001b[1m58s\u001b[0m 294ms/step - accuracy: 0.6821 - loss: 0.9159\n",
            "Epoch 9/9\n",
            "\u001b[1m196/196\u001b[0m \u001b[32m━━━━━━━━━━━━━━━━━━━━\u001b[0m\u001b[37m\u001b[0m \u001b[1m88s\u001b[0m 325ms/step - accuracy: 0.6973 - loss: 0.8770\n",
            "\u001b[1m313/313\u001b[0m \u001b[32m━━━━━━━━━━━━━━━━━━━━\u001b[0m\u001b[37m\u001b[0m \u001b[1m4s\u001b[0m 13ms/step - accuracy: 0.6809 - loss: 0.9255\n",
            "test_acc: 0.6776999831199646\n",
            "64\n",
            "Epoch 1/9\n",
            "\u001b[1m196/196\u001b[0m \u001b[32m━━━━━━━━━━━━━━━━━━━━\u001b[0m\u001b[37m\u001b[0m \u001b[1m62s\u001b[0m 307ms/step - accuracy: 0.3083 - loss: 1.8809\n",
            "Epoch 2/9\n",
            "\u001b[1m196/196\u001b[0m \u001b[32m━━━━━━━━━━━━━━━━━━━━\u001b[0m\u001b[37m\u001b[0m \u001b[1m59s\u001b[0m 300ms/step - accuracy: 0.4854 - loss: 1.4222\n",
            "Epoch 3/9\n",
            "\u001b[1m196/196\u001b[0m \u001b[32m━━━━━━━━━━━━━━━━━━━━\u001b[0m\u001b[37m\u001b[0m \u001b[1m82s\u001b[0m 303ms/step - accuracy: 0.5558 - loss: 1.2453\n",
            "Epoch 4/9\n",
            "\u001b[1m196/196\u001b[0m \u001b[32m━━━━━━━━━━━━━━━━━━━━\u001b[0m\u001b[37m\u001b[0m \u001b[1m83s\u001b[0m 306ms/step - accuracy: 0.5967 - loss: 1.1473\n",
            "Epoch 5/9\n",
            "\u001b[1m196/196\u001b[0m \u001b[32m━━━━━━━━━━━━━━━━━━━━\u001b[0m\u001b[37m\u001b[0m \u001b[1m81s\u001b[0m 304ms/step - accuracy: 0.6390 - loss: 1.0309\n",
            "Epoch 6/9\n",
            "\u001b[1m196/196\u001b[0m \u001b[32m━━━━━━━━━━━━━━━━━━━━\u001b[0m\u001b[37m\u001b[0m \u001b[1m83s\u001b[0m 308ms/step - accuracy: 0.6615 - loss: 0.9579\n",
            "Epoch 7/9\n",
            "\u001b[1m196/196\u001b[0m \u001b[32m━━━━━━━━━━━━━━━━━━━━\u001b[0m\u001b[37m\u001b[0m \u001b[1m81s\u001b[0m 302ms/step - accuracy: 0.6870 - loss: 0.8966\n",
            "Epoch 8/9\n",
            "\u001b[1m196/196\u001b[0m \u001b[32m━━━━━━━━━━━━━━━━━━━━\u001b[0m\u001b[37m\u001b[0m \u001b[1m87s\u001b[0m 328ms/step - accuracy: 0.7040 - loss: 0.8497\n",
            "Epoch 9/9\n",
            "\u001b[1m196/196\u001b[0m \u001b[32m━━━━━━━━━━━━━━━━━━━━\u001b[0m\u001b[37m\u001b[0m \u001b[1m78s\u001b[0m 310ms/step - accuracy: 0.7147 - loss: 0.8185\n",
            "\u001b[1m313/313\u001b[0m \u001b[32m━━━━━━━━━━━━━━━━━━━━\u001b[0m\u001b[37m\u001b[0m \u001b[1m4s\u001b[0m 12ms/step - accuracy: 0.6776 - loss: 0.9208\n",
            "test_acc: 0.6757000088691711\n",
            "128\n",
            "Epoch 1/9\n",
            "\u001b[1m196/196\u001b[0m \u001b[32m━━━━━━━━━━━━━━━━━━━━\u001b[0m\u001b[37m\u001b[0m \u001b[1m63s\u001b[0m 306ms/step - accuracy: 0.3197 - loss: 1.8568\n",
            "Epoch 2/9\n",
            "\u001b[1m196/196\u001b[0m \u001b[32m━━━━━━━━━━━━━━━━━━━━\u001b[0m\u001b[37m\u001b[0m \u001b[1m61s\u001b[0m 308ms/step - accuracy: 0.5186 - loss: 1.3443\n",
            "Epoch 3/9\n",
            "\u001b[1m196/196\u001b[0m \u001b[32m━━━━━━━━━━━━━━━━━━━━\u001b[0m\u001b[37m\u001b[0m \u001b[1m81s\u001b[0m 304ms/step - accuracy: 0.5934 - loss: 1.1536\n",
            "Epoch 4/9\n",
            "\u001b[1m196/196\u001b[0m \u001b[32m━━━━━━━━━━━━━━━━━━━━\u001b[0m\u001b[37m\u001b[0m \u001b[1m83s\u001b[0m 308ms/step - accuracy: 0.6375 - loss: 1.0340\n",
            "Epoch 5/9\n",
            "\u001b[1m196/196\u001b[0m \u001b[32m━━━━━━━━━━━━━━━━━━━━\u001b[0m\u001b[37m\u001b[0m \u001b[1m60s\u001b[0m 308ms/step - accuracy: 0.6620 - loss: 0.9667\n",
            "Epoch 6/9\n",
            "\u001b[1m196/196\u001b[0m \u001b[32m━━━━━━━━━━━━━━━━━━━━\u001b[0m\u001b[37m\u001b[0m \u001b[1m82s\u001b[0m 309ms/step - accuracy: 0.6845 - loss: 0.9059\n",
            "Epoch 7/9\n",
            "\u001b[1m196/196\u001b[0m \u001b[32m━━━━━━━━━━━━━━━━━━━━\u001b[0m\u001b[37m\u001b[0m \u001b[1m80s\u001b[0m 301ms/step - accuracy: 0.6957 - loss: 0.8620\n",
            "Epoch 8/9\n",
            "\u001b[1m196/196\u001b[0m \u001b[32m━━━━━━━━━━━━━━━━━━━━\u001b[0m\u001b[37m\u001b[0m \u001b[1m60s\u001b[0m 308ms/step - accuracy: 0.7152 - loss: 0.8156\n",
            "Epoch 9/9\n",
            "\u001b[1m196/196\u001b[0m \u001b[32m━━━━━━━━━━━━━━━━━━━━\u001b[0m\u001b[37m\u001b[0m \u001b[1m80s\u001b[0m 301ms/step - accuracy: 0.7357 - loss: 0.7682\n",
            "\u001b[1m313/313\u001b[0m \u001b[32m━━━━━━━━━━━━━━━━━━━━\u001b[0m\u001b[37m\u001b[0m \u001b[1m5s\u001b[0m 15ms/step - accuracy: 0.7061 - loss: 0.8435\n",
            "test_acc: 0.704200029373169\n",
            "256\n",
            "Epoch 1/9\n",
            "\u001b[1m196/196\u001b[0m \u001b[32m━━━━━━━━━━━━━━━━━━━━\u001b[0m\u001b[37m\u001b[0m \u001b[1m64s\u001b[0m 316ms/step - accuracy: 0.3296 - loss: 1.8369\n",
            "Epoch 2/9\n",
            "\u001b[1m196/196\u001b[0m \u001b[32m━━━━━━━━━━━━━━━━━━━━\u001b[0m\u001b[37m\u001b[0m \u001b[1m61s\u001b[0m 310ms/step - accuracy: 0.5471 - loss: 1.2770\n",
            "Epoch 3/9\n",
            "\u001b[1m196/196\u001b[0m \u001b[32m━━━━━━━━━━━━━━━━━━━━\u001b[0m\u001b[37m\u001b[0m \u001b[1m85s\u001b[0m 324ms/step - accuracy: 0.6130 - loss: 1.0940\n",
            "Epoch 4/9\n",
            "\u001b[1m196/196\u001b[0m \u001b[32m━━━━━━━━━━━━━━━━━━━━\u001b[0m\u001b[37m\u001b[0m \u001b[1m79s\u001b[0m 310ms/step - accuracy: 0.6527 - loss: 0.9906\n",
            "Epoch 5/9\n",
            "\u001b[1m196/196\u001b[0m \u001b[32m━━━━━━━━━━━━━━━━━━━━\u001b[0m\u001b[37m\u001b[0m \u001b[1m86s\u001b[0m 331ms/step - accuracy: 0.6815 - loss: 0.9086\n",
            "Epoch 6/9\n",
            "\u001b[1m196/196\u001b[0m \u001b[32m━━━━━━━━━━━━━━━━━━━━\u001b[0m\u001b[37m\u001b[0m \u001b[1m81s\u001b[0m 323ms/step - accuracy: 0.7004 - loss: 0.8589\n",
            "Epoch 7/9\n",
            "\u001b[1m196/196\u001b[0m \u001b[32m━━━━━━━━━━━━━━━━━━━━\u001b[0m\u001b[37m\u001b[0m \u001b[1m62s\u001b[0m 317ms/step - accuracy: 0.7205 - loss: 0.8033\n",
            "Epoch 8/9\n",
            "\u001b[1m196/196\u001b[0m \u001b[32m━━━━━━━━━━━━━━━━━━━━\u001b[0m\u001b[37m\u001b[0m \u001b[1m80s\u001b[0m 308ms/step - accuracy: 0.7307 - loss: 0.7684\n",
            "Epoch 9/9\n",
            "\u001b[1m196/196\u001b[0m \u001b[32m━━━━━━━━━━━━━━━━━━━━\u001b[0m\u001b[37m\u001b[0m \u001b[1m62s\u001b[0m 316ms/step - accuracy: 0.7507 - loss: 0.7130\n",
            "\u001b[1m313/313\u001b[0m \u001b[32m━━━━━━━━━━━━━━━━━━━━\u001b[0m\u001b[37m\u001b[0m \u001b[1m4s\u001b[0m 13ms/step - accuracy: 0.7021 - loss: 0.8735\n",
            "test_acc: 0.697700023651123\n",
            "512\n",
            "Epoch 1/9\n",
            "\u001b[1m196/196\u001b[0m \u001b[32m━━━━━━━━━━━━━━━━━━━━\u001b[0m\u001b[37m\u001b[0m \u001b[1m66s\u001b[0m 324ms/step - accuracy: 0.3354 - loss: 1.8274\n",
            "Epoch 2/9\n",
            "\u001b[1m196/196\u001b[0m \u001b[32m━━━━━━━━━━━━━━━━━━━━\u001b[0m\u001b[37m\u001b[0m \u001b[1m88s\u001b[0m 358ms/step - accuracy: 0.5595 - loss: 1.2341\n",
            "Epoch 3/9\n",
            "\u001b[1m196/196\u001b[0m \u001b[32m━━━━━━━━━━━━━━━━━━━━\u001b[0m\u001b[37m\u001b[0m \u001b[1m76s\u001b[0m 328ms/step - accuracy: 0.6208 - loss: 1.0759\n",
            "Epoch 4/9\n",
            "\u001b[1m196/196\u001b[0m \u001b[32m━━━━━━━━━━━━━━━━━━━━\u001b[0m\u001b[37m\u001b[0m \u001b[1m64s\u001b[0m 329ms/step - accuracy: 0.6643 - loss: 0.9580\n",
            "Epoch 5/9\n",
            "\u001b[1m196/196\u001b[0m \u001b[32m━━━━━━━━━━━━━━━━━━━━\u001b[0m\u001b[37m\u001b[0m \u001b[1m65s\u001b[0m 329ms/step - accuracy: 0.6881 - loss: 0.8901\n",
            "Epoch 6/9\n",
            "\u001b[1m196/196\u001b[0m \u001b[32m━━━━━━━━━━━━━━━━━━━━\u001b[0m\u001b[37m\u001b[0m \u001b[1m81s\u001b[0m 326ms/step - accuracy: 0.7041 - loss: 0.8432\n",
            "Epoch 7/9\n",
            "\u001b[1m196/196\u001b[0m \u001b[32m━━━━━━━━━━━━━━━━━━━━\u001b[0m\u001b[37m\u001b[0m \u001b[1m82s\u001b[0m 324ms/step - accuracy: 0.7168 - loss: 0.8106\n",
            "Epoch 8/9\n",
            "\u001b[1m196/196\u001b[0m \u001b[32m━━━━━━━━━━━━━━━━━━━━\u001b[0m\u001b[37m\u001b[0m \u001b[1m65s\u001b[0m 332ms/step - accuracy: 0.7406 - loss: 0.7540\n",
            "Epoch 9/9\n",
            "\u001b[1m196/196\u001b[0m \u001b[32m━━━━━━━━━━━━━━━━━━━━\u001b[0m\u001b[37m\u001b[0m \u001b[1m83s\u001b[0m 336ms/step - accuracy: 0.7550 - loss: 0.7018\n",
            "\u001b[1m313/313\u001b[0m \u001b[32m━━━━━━━━━━━━━━━━━━━━\u001b[0m\u001b[37m\u001b[0m \u001b[1m5s\u001b[0m 14ms/step - accuracy: 0.7012 - loss: 0.8759\n",
            "test_acc: 0.6963000297546387\n"
          ]
        }
      ]
    }
  ]
}