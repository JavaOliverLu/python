{
  "nbformat": 4,
  "nbformat_minor": 0,
  "metadata": {
    "colab": {
      "provenance": [],
      "authorship_tag": "ABX9TyP7ScPBU7xv91CI82dMuqpx",
      "include_colab_link": true
    },
    "kernelspec": {
      "name": "python3",
      "display_name": "Python 3"
    },
    "language_info": {
      "name": "python"
    }
  },
  "cells": [
    {
      "cell_type": "markdown",
      "metadata": {
        "id": "view-in-github",
        "colab_type": "text"
      },
      "source": [
        "<a href=\"https://colab.research.google.com/github/JavaOliverLu/python/blob/master/AP4062_HW2_pretrained.ipynb\" target=\"_parent\"><img src=\"https://colab.research.google.com/assets/colab-badge.svg\" alt=\"Open In Colab\"/></a>"
      ]
    },
    {
      "cell_type": "code",
      "source": [
        "\n",
        "#!pip install -q keras\n",
        "\n",
        "# %%\n",
        "import keras\n",
        "from keras.datasets import cifar10\n",
        "from keras import models\n",
        "from keras import layers\n",
        "(train_images, train_labels), (test_images, test_labels) = cifar10.load_data()\n",
        "# %%\n",
        "from keras.applications import VGG16\n",
        "conv_base = VGG16(weights='imagenet',include_top=False,input_shape=(32,32,3))\n",
        "\n",
        "# %%\n",
        "from keras import models\n",
        "from keras import layers\n",
        "model = models.Sequential()\n",
        "model.add(conv_base)\n",
        "model.add(layers.Flatten())\n",
        "model.add(layers.Dense(32, activation='relu'))\n",
        "model.add(layers.Dense(10, activation='softmax'))\n",
        "\n",
        "# %%\n",
        "model.compile(optimizer='adam',\n",
        "loss='categorical_crossentropy',\n",
        "metrics=['accuracy'])\n",
        "# %%\n",
        "# Remove the reshaping step that flattens the images\n",
        "# train_images = train_images.reshape((50000, 32 * 32 * 3)) # This line is removed\n",
        "train_images = train_images.astype('float32') / 255\n",
        "# test_images = test_images.reshape((10000, 32 * 32 * 3)) # This line is removed\n",
        "test_images = test_images.astype('float32') / 255\n",
        "# %%\n",
        "from keras.utils import to_categorical\n",
        "train_labels = to_categorical(train_labels)\n",
        "test_labels = to_categorical(test_labels)\n",
        "\n",
        "# %%\n"
      ],
      "metadata": {
        "id": "xI49NJUp0le9"
      },
      "execution_count": 4,
      "outputs": []
    },
    {
      "cell_type": "code",
      "source": [
        "history =model.fit(train_images, train_labels, epochs=2, batch_size=256)"
      ],
      "metadata": {
        "colab": {
          "base_uri": "https://localhost:8080/"
        },
        "id": "e3wxKtas3nvO",
        "outputId": "dbbb2b33-bd12-4671-9eae-8655f0d4e51c"
      },
      "execution_count": 5,
      "outputs": [
        {
          "output_type": "stream",
          "name": "stdout",
          "text": [
            "Epoch 1/2\n",
            "\u001b[1m196/196\u001b[0m \u001b[32m━━━━━━━━━━━━━━━━━━━━\u001b[0m\u001b[37m\u001b[0m \u001b[1m5207s\u001b[0m 26s/step - accuracy: 0.1540 - loss: 2.1995\n",
            "Epoch 2/2\n",
            "\u001b[1m196/196\u001b[0m \u001b[32m━━━━━━━━━━━━━━━━━━━━\u001b[0m\u001b[37m\u001b[0m \u001b[1m5253s\u001b[0m 27s/step - accuracy: 0.3249 - loss: 1.6611\n"
          ]
        }
      ]
    },
    {
      "cell_type": "code",
      "source": [
        "test_loss, test_acc = model.evaluate(test_images, test_labels)"
      ],
      "metadata": {
        "colab": {
          "base_uri": "https://localhost:8080/"
        },
        "id": "98I3Iczm32Dt",
        "outputId": "300faa0d-5639-436e-90e4-4b9f7e62c588"
      },
      "execution_count": 6,
      "outputs": [
        {
          "output_type": "stream",
          "name": "stdout",
          "text": [
            "\u001b[1m313/313\u001b[0m \u001b[32m━━━━━━━━━━━━━━━━━━━━\u001b[0m\u001b[37m\u001b[0m \u001b[1m109s\u001b[0m 344ms/step - accuracy: 0.4995 - loss: 1.2912\n"
          ]
        }
      ]
    }
  ]
}